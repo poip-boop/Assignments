{
 "cells": [
  {
   "cell_type": "markdown",
   "metadata": {},
   "source": [
    "# ASSIGNMENTS"
   ]
  },
  {
   "cell_type": "markdown",
   "metadata": {},
   "source": [
    "# Transformers\n",
    "## 1.Transformers\n",
    "Transformers are a type of neural network architecture introduced in the 2017 paper \"Attention is All You Need\" by Vaswani et al. They revolutionized natural language processing (NLP) by offering a more efficient and scalable alternative to previous models such as RNNs (Recurrent Neural Networks) and LSTMs (Long Short-Term Memory networks).\n",
    "The key innovation of transformers is the self-attention mechanism, which allows the model to weigh the importance of different words in a sentence in relation to one another, regardless of their position. This differs from RNNs, which process data sequentially and can have difficulties with long-range dependencies.\n",
    "Transformer Architecture  consists of Encoder and Decoder responsibe for input and output respectively.\n",
    "Key components include:\n",
    "-Multi-Head Attention: The model can attend to different positions in the sequence simultaneously.\n",
    "-Positional Encoding: Since transformers do not process data sequentially, positional encoding is used to give the model information about the order of words in the input.\n",
    "-Feed-Forward Layers: Standard dense neural networks applied independently to each position.\n",
    "-Layer Normalization and Residual Connections: These improve training stability and performance.\n",
    "## 2.GPT (Generative Pretrained Transformer)\n",
    "OpenAI’s GPT series, including ChatGPT, are based on the transformer decoder architecture. The core concept behind GPT is:\n",
    "-Pre-training: The model is trained on a vast corpus of text data in an unsupervised manner, learning to predict the next word in a sentence.\n",
    "-Fine-tuning: The model is then fine-tuned for specific tasks (like generating human-like responses in a chatbot) using supervised learning and reinforcement learning.\n",
    "  ### Evolution of ChatGPT .\n",
    "-GPT-1 focused on pre-training and fine-tuning, using a relatively smaller dataset and fewer parameters.\n",
    "-GPT-2 significantly increased the size of the model and showed that it could generate more fluent and coherent text.\n",
    "-GPT-3, with 175 billion parameters, is one of the largest language models ever created and can generate more complex and accurate text.\n",
    "## 3.How Transformers Mimic Human Intelligence in Conversations\n",
    "Context Awareness: Transformers can generate responses that are contextually relevant by attending to all words in the input. This makes conversations feel more coherent and intelligent, as the model can maintain an understanding of the topic or subject across multiple sentences or paragraphs.\n",
    "Memory and Attention: Similar to how humans focus on important parts of a conversation, transformers use attention mechanisms to emphasize relevant parts of input data.\n",
    "Sequential Understanding: While transformers process input in parallel, their self-attention mechanism allows them to understand the sequence of words or events, crucial for generating meaningful responses.\n",
    "Generative Abilities: Transformers, particularly GPT, can generate new content based on a given prompt, demonstrating creativity and the ability to mimic complex human language patterns."
   ]
  },
  {
   "cell_type": "markdown",
   "metadata": {},
   "source": [
    "# All subsets of AI\n",
    "1.Machine Learning (ML)\n",
    "ML enables computers to learn from data and improve their performance without being explicitly programmed.\n",
    "Examples: Supervised Learning, Unsupervised Learning, Reinforcement Learning.\n",
    "\n",
    "2.Natural Language Processing (NLP)\n",
    "NLP enables machines to understand, interpret, and generate human language.\n",
    "Examples: Speech Recognition, Machine Translation, Text Generation.\n",
    "\n",
    "3.Computer Vision\n",
    "Computer vision allows machines to interpret and understand visual information from the world.\n",
    "Examples: Image Classification, Object Detection, Medical Imaging.\n",
    "\n",
    "4.Robotics\n",
    "Robotics involves the design and creation of robots that can perform tasks autonomously or semi-autonomously.\n",
    "Examples: Industrial Robots, Service Robots, Humanoid Robots.\n",
    "\n",
    "5.Expert Systems\n",
    "Expert systems emulate the decision-making abilities of human experts in specific domains.\n",
    "Examples: Medical Diagnosis Systems, Financial Advisory Systems, Legal Expert Systems.\n",
    "\n",
    "6.Fuzzy Logic\n",
    "Fuzzy logic allows machines to handle uncertainty and approximate reasoning, making flexible decisions.\n",
    "Examples: Climate Control Systems, Washing Machines, Smart Thermostats.\n",
    "\n",
    "7.Neural Networks and Deep Learning\n",
    "Neural networks are models inspired by the human brain, while deep learning refers to neural networks with many layers that can learn complex patterns.\n",
    "Examples: Image Recognition (CNNs), Speech Recognition (RNNs), Text Generation (Transformers).\n",
    "\n",
    "8.Cognitive Computing\n",
    "Cognitive computing simulates human thought processes for understanding and reasoning.\n",
    "Examples: Virtual Assistants (e.g., IBM Watson), Sentiment Analysis, Question Answering Systems.\n",
    "\n",
    "9.Reinforcement Learning\n",
    "In reinforcement learning, agents learn to make decisions by interacting with their environment and receiving rewards or penalties.\n",
    "Examples: Game AI (AlphaGo), Autonomous Robots, Self-driving Cars.\n",
    "\n",
    "10.Genetic Algorithms\n",
    "Genetic algorithms solve optimization problems by evolving solutions over generations, mimicking natural selection.\n",
    "Examples: Traveling Salesman Problem, Optimizing Design of Antennas, Resource Allocation Problems.\n",
    "\n",
    "11.Speech Recognition\n",
    "Speech recognition converts spoken language into text, allowing machines to understand spoken words.\n",
    "Examples: Virtual Assistants (Siri, Google Assistant), Voice Typing, Automated Transcription Services.\n",
    "\n",
    "12.Natural Language Generation (NLG)\n",
    "NLG focuses on generating human-like text from data, allowing machines to communicate in natural language.\n",
    "Examples: Automated Report Generation, Chatbots, Financial Summary Generation.\n",
    "\n",
    "13.Knowledge Representation and Reasoning (KRR)\n",
    "KRR deals with how machines represent, store, and manipulate knowledge to make decisions and reason like humans.\n",
    "Examples: Semantic Web, Medical Ontology Systems, Knowledge Graphs.\n",
    "\n",
    "14,Emotion AI (Affective Computing)\n",
    "Emotion AI enables systems to recognize and interpret human emotions from data like facial expressions, speech, or text.\n",
    "Examples: Emotion Detection in Videos, Interactive AI Systems, Empathetic Virtual Assistants.\n",
    "\n"
   ]
  },
  {
   "cell_type": "markdown",
   "metadata": {},
   "source": [
    "# Pyforest Library\n",
    "\n",
    "Pyforest is a Python library designed to reduce the time spent on importing commonly used data science libraries. It allows you to use popular libraries like pandas, numpy, matplotlib, seaborn, and many more without explicitly importing them in your code. Pyforest will automatically import the required library when you reference it, making the code cleaner and reducing the initial boilerplate.Its advantages include:\n",
    "Reduces the time spent on writing imports,Simplifies the code by removing unnecessary import lines,Supports many widely used data science libraries."
   ]
  },
  {
   "cell_type": "markdown",
   "metadata": {},
   "source": [
    "# Data structures and Algorithms\n",
    "- Arrays (Lists in Python)\n",
    "Description: An array is an ordered collection of elements. In Python, the built-in list is used to represent arrays. They are noted by square brackets, e.g., [1, 2, 3, 4]. Several actions can be carried out with lists, such as slicing, appending, and updating elements.\n",
    "\n",
    "Slicing: Extracting a portion of the array.\n",
    "Appending: Adding an element to the end.\n",
    "Updating: Modifying an element at a specific index.\n",
    "- Linked Lists\n",
    "Description: A linked list is a linear data structure where each element (node) contains two parts: data and a reference (link) to the next node. Linked lists are often used for dynamic memory allocation and frequent insertions/deletions.\n",
    "\n",
    "Singly Linked List: Each node points to the next node.\n",
    "Doubly Linked List: Each node points to both the next and previous nodes.\n",
    "- Stacks\n",
    "Description: A stack is a data structure that follows the Last In, First Out (LIFO) principle. The last element added is the first to be removed. Common operations include push (to add an element) and pop (to remove the last element).\n",
    "\n",
    "Push: Adds an element to the stack.\n",
    "Pop: Removes the last element from the stack.\n",
    "- Queues\n",
    "Description: A queue follows the First In, First Out (FIFO) principle. The first element added is the first to be removed. Common operations include enqueue (to add an element) and dequeue (to remove the first element).\n",
    "\n",
    "Enqueue: Adds an element to the queue.\n",
    "Dequeue: Removes the first element from the queue.\n",
    "- Hash Tables (Dictionaries in Python)\n",
    "Description: A hash table stores key-value pairs and allows for fast access using keys. In Python, dictionaries (dict) are used to represent hash tables. The keys are hashed, and their corresponding values are stored in a table.\n",
    "\n",
    "Insert: Adds a key-value pair to the table.\n",
    "Access: Retrieves the value associated with a key.\n",
    "Update: Modifies the value associated with a key.\n",
    "Delete: Removes a key-value pair from the table.\n",
    "- Trees (Binary Tree Example)\n",
    "Description: A tree is a hierarchical data structure with nodes connected by edges. Each node has a value and may have a left and right child. A binary tree is a tree where each node has at most two children.\n",
    "\n",
    "Inorder Traversal: Visit the left subtree, the current node, and then the right subtree.\n",
    "- Graphs (Adjacency List)\n",
    "Description: A graph consists of nodes (vertices) connected by edges. Graphs can be directed or undirected. An adjacency list is a way to represent graphs, where each node is associated with a list of its neighbors.\n",
    "\n",
    "Add Edge: Adds a connection between two nodes.\n",
    "Print Graph: Displays the graph structure.\n",
    "- Sorting Algorithms\n",
    "Description: Sorting algorithms arrange elements in a specific order. Common sorting algorithms include Bubble Sort, Merge Sort, and Quick Sort. These algorithms are essential for improving performance in other algorithms (e.g., binary search).\n",
    "- Searching Algorithms\n",
    "Description: Searching algorithms are used to find an element in a dataset. Common searching algorithms include Linear Search and Binary Search.\n",
    "- Recursion (Factorial Example)\n",
    "Description: Recursion is a technique where a function calls itself to solve smaller instances of the same problem. It’s often used in tree/graph traversals and divide-and-conquer algorithms.\n",
    "- Dynamic Programming (Fibonacci Sequence)\n",
    "Description: Dynamic programming solves problems by breaking them into smaller overlapping subproblems and storing the results to avoid redundant calculations."
   ]
  },
  {
   "cell_type": "markdown",
   "metadata": {},
   "source": [
    "# Do...While loop\n",
    "In Python, there isn't a built-in do-while loop, but the concept is to execute a block of code at least once before checking the condition. The loop continues until the condition becomes False, making it different from a regular while loop, which checks the condition first.To simulate a do-while loop, you can use a while loop with a condition that's checked at the end. Here's an example:"
   ]
  },
  {
   "cell_type": "code",
   "execution_count": null,
   "metadata": {},
   "outputs": [],
   "source": [
    "#Simulating do...while loop in python\n",
    "while True:\n",
    "    # Code block executed at least once\n",
    "    user_input = input(\"Enter a number (enter 'quit' to exit): \")\n",
    "    \n",
    "    # Condition checked after the code block\n",
    "    if user_input == 'quit':\n",
    "        break\n",
    "    print(f\"You entered: {user_input}\")\n"
   ]
  },
  {
   "cell_type": "markdown",
   "metadata": {},
   "source": [
    "# Difference between While loop and Do... While loop\n",
    "In Python, a while loop is used to repeatedly execute a block of code as long as a specified condition is true as for a do...while loop is executed at least once before checking condition."
   ]
  },
  {
   "cell_type": "code",
   "execution_count": 1,
   "metadata": {},
   "outputs": [
    {
     "name": "stdout",
     "output_type": "stream",
     "text": [
      "0\n",
      "1\n",
      "2\n"
     ]
    }
   ],
   "source": [
    "\n",
    "# While loop\n",
    "count = 0\n",
    "\n",
    "while count < 3:\n",
    "    print(count)\n",
    "    count += 1  # Increment count by 1\n"
   ]
  },
  {
   "cell_type": "markdown",
   "metadata": {},
   "source": [
    "# Nested Loops \n",
    "A nested loop is a loop inside another loop. The inner loop will be executed for each iteration of the outer loop. Nested loops are useful when you need to iterate through a multi-dimensional data structure (like a list of lists ) or when you need to perform repetitive actions within another repetitive action."
   ]
  },
  {
   "cell_type": "code",
   "execution_count": 5,
   "metadata": {},
   "outputs": [
    {
     "name": "stdout",
     "output_type": "stream",
     "text": [
      "2 is prime\n",
      "3 is prime\n",
      "5 is prime\n",
      "7 is prime\n"
     ]
    }
   ],
   "source": [
    "# Nested loop to check prime numbers in a range\n",
    "for num in range(2, 9):  # Outer loop checks numbers 2 to 8\n",
    "    is_prime = True\n",
    "    for i in range(2, num):  # Inner loop checks divisibility\n",
    "        if num % i == 0:\n",
    "            is_prime = False\n",
    "            break  # No need to check further if divisible\n",
    "    if is_prime:\n",
    "        print(f\"{num} is prime\")\n"
   ]
  },
  {
   "cell_type": "markdown",
   "metadata": {},
   "source": [
    "# Difference between Return and Print\n",
    "The return statement is used to exit a function and send back a value to the caller. It allows a function to produce an output that can be used elsewhere in the program while  the print statement is used to output information to the console (standard output). It displays values or messages for the user to see but does not affect the flow of the program or return any value."
   ]
  },
  {
   "cell_type": "code",
   "execution_count": 3,
   "metadata": {},
   "outputs": [
    {
     "name": "stdout",
     "output_type": "stream",
     "text": [
      "8\n"
     ]
    }
   ],
   "source": [
    "# Return\n",
    "def add_numbers(x, y):\n",
    "    return x + y  # returns the sum of x and y\n",
    "\n",
    "result = add_numbers(3, 5)  # assigns the returned value to result\n",
    "print(result)  # Output: 8\n"
   ]
  },
  {
   "cell_type": "code",
   "execution_count": 4,
   "metadata": {},
   "outputs": [
    {
     "name": "stdout",
     "output_type": "stream",
     "text": [
      "8\n"
     ]
    }
   ],
   "source": [
    "# Print\n",
    "def add_numbers(x, y):\n",
    "    print(x + y)  # prints the sum of a and b\n",
    "\n",
    "add_numbers(3, 5)  # Output: 8\n"
   ]
  },
  {
   "cell_type": "markdown",
   "metadata": {},
   "source": [
    "# Functions \n",
    "A function is a block of reusable code that performs a specific task. Functions help in breaking down complex problems into smaller, manageable tasks and promote code reusability."
   ]
  },
  {
   "cell_type": "code",
   "execution_count": 8,
   "metadata": {},
   "outputs": [
    {
     "name": "stdout",
     "output_type": "stream",
     "text": [
      "Hello, John Doe!\n"
     ]
    }
   ],
   "source": [
    "def greet(name):\n",
    "    return f\"Hello, {name}!\"\n",
    "\n",
    "message = greet(\"John Doe\")\n",
    "print(message)  # Output: Hello, John Doe!\n"
   ]
  },
  {
   "cell_type": "markdown",
   "metadata": {},
   "source": [
    "# File operations \n",
    "Python provides built-in functions for reading from and writing to files. Common file operations include opening, reading, writing, and closing files."
   ]
  },
  {
   "cell_type": "markdown",
   "metadata": {},
   "source": [
    "# Classes \n",
    "A class is a blueprint for creating objects. Classes encapsulate data and functions into a single unit, providing a way to structure and organize code."
   ]
  },
  {
   "cell_type": "code",
   "execution_count": 12,
   "metadata": {},
   "outputs": [
    {
     "name": "stdout",
     "output_type": "stream",
     "text": [
      "Hello, my name is John Doe and I am 30 years old.\n"
     ]
    }
   ],
   "source": [
    "# Classes\n",
    "class Person:\n",
    "    def __init__(self, name, age):\n",
    "        self.name = name\n",
    "        self.age = age\n",
    "    \n",
    "    def greet(self):\n",
    "        return f\"Hello, my name is {self.name} and I am {self.age} years old.\"\n",
    "\n",
    "# Creating an object (instance) of the class\n",
    "person1 = Person(\"John Doe\", 30)\n",
    "\n",
    "# Accessing an attribute and calling a method\n",
    "print(person1.greet())  # Output: Hello, my name is John Doe and I am 30 years old.\n"
   ]
  },
  {
   "cell_type": "markdown",
   "metadata": {},
   "source": [
    "# Visualizing a .csv file\n",
    "To visualize a CSV file, you can use Python with libraries such as pandas, matplotlib, and seaborn. Here's a step-by-step guide on how to load and visualize a CSV file:"
   ]
  },
  {
   "cell_type": "code",
   "execution_count": 1,
   "metadata": {},
   "outputs": [
    {
     "name": "stdout",
     "output_type": "stream",
     "text": [
      "         ÿid  Gender       Customer_Date_of_Birth  Driving_License  \\\n",
      "0  549771831    Male        Monday, March 7, 1977                1   \n",
      "1  373583351    Male    Sunday, December 29, 2002                1   \n",
      "2  933163655  Female     Tuesday, August 23, 1994                1   \n",
      "3  698942186  Female  Thursday, November 18, 1999                1   \n",
      "4  515109822    Male  Thursday, February 22, 2001                1   \n",
      "\n",
      "  Customer_Residence_Sub_County  Previously_Insured  \\\n",
      "0                      EMBAKASI                   0   \n",
      "1                     WESTLANDS                   1   \n",
      "2                     DAGORETTI                   1   \n",
      "3                          JUJA                   0   \n",
      "4                     WESTLANDS                   0   \n",
      "\n",
      "   Vehicle_Year_of_Manufacture Vehicle_Damage  Annual_Premium      Agent_name  \\\n",
      "0                         2020            Yes           38294   Jomo Kenyatta   \n",
      "1                         2020             No           28619  Obiero Ochieng   \n",
      "2                         2011             No           27496  Obiero Ochieng   \n",
      "3                         2020            Yes            2630  Gitonga Mwangi   \n",
      "4                         2015            Yes           23367  Obiero Ochieng   \n",
      "\n",
      "        Life_policy_start_date  Response  \n",
      "0  Thursday, December 21, 2023         1  \n",
      "1     Wednesday, June 28, 2023         0  \n",
      "2   Saturday, December 9, 2023         0  \n",
      "3       Tuesday, July 25, 2023         0  \n",
      "4       Saturday, May 13, 2023         0  \n",
      "                ÿid  Driving_License  Previously_Insured  \\\n",
      "count  3.244660e+05    324466.000000       324466.000000   \n",
      "mean   5.751385e+08         0.997938            0.457971   \n",
      "std    2.457573e+08         0.045361            0.498231   \n",
      "min    1.500074e+08         0.000000            0.000000   \n",
      "25%    3.622662e+08         1.000000            0.000000   \n",
      "50%    5.752094e+08         1.000000            0.000000   \n",
      "75%    7.881495e+08         1.000000            1.000000   \n",
      "max    9.999996e+08         1.000000            1.000000   \n",
      "\n",
      "       Vehicle_Year_of_Manufacture  Annual_Premium       Response  \n",
      "count                324466.000000   324466.000000  324466.000000  \n",
      "mean                   2015.048584    30570.897339       0.122805  \n",
      "std                       3.745267    17196.763434       0.328214  \n",
      "min                    2009.000000     2630.000000       0.000000  \n",
      "25%                    2012.000000    24404.000000       0.000000  \n",
      "50%                    2015.000000    31661.000000       0.000000  \n",
      "75%                    2018.000000    39393.000000       0.000000  \n",
      "max                    2022.000000   540165.000000       1.000000  \n",
      "ÿid                              0\n",
      "Gender                           0\n",
      "Customer_Date_of_Birth           0\n",
      "Driving_License                  0\n",
      "Customer_Residence_Sub_County    0\n",
      "Previously_Insured               0\n",
      "Vehicle_Year_of_Manufacture      0\n",
      "Vehicle_Damage                   0\n",
      "Annual_Premium                   0\n",
      "Agent_name                       0\n",
      "Life_policy_start_date           0\n",
      "Response                         0\n",
      "dtype: int64\n",
      "ÿid                               int64\n",
      "Gender                           object\n",
      "Customer_Date_of_Birth           object\n",
      "Driving_License                   int64\n",
      "Customer_Residence_Sub_County    object\n",
      "Previously_Insured                int64\n",
      "Vehicle_Year_of_Manufacture       int64\n",
      "Vehicle_Damage                   object\n",
      "Annual_Premium                    int64\n",
      "Agent_name                       object\n",
      "Life_policy_start_date           object\n",
      "Response                          int64\n",
      "dtype: object\n"
     ]
    }
   ],
   "source": [
    "# Import pandas\n",
    "import pandas as pd\n",
    "\n",
    "# Load the CSV file\n",
    "df = pd.read_csv(r\"C:\\Users\\Administrator\\Documents\\FAITH\\lux dev\\csv\\train_data_cross-sell.csv\", encoding='ISO-8859-1')\n",
    "\n",
    "\n",
    "# Display the first few rows of the DataFrame\n",
    "print(df.head())\n",
    "\n",
    "# Get summary statistics\n",
    "print(df.describe())\n",
    "\n",
    "# Check for missing values\n",
    "print(df.isnull().sum())\n",
    "\n",
    "# Get data types\n",
    "print(df.dtypes)\n",
    "\n"
   ]
  },
  {
   "cell_type": "code",
   "execution_count": 2,
   "metadata": {},
   "outputs": [
    {
     "name": "stdout",
     "output_type": "stream",
     "text": [
      "             ÿid  Gender     Customer_Date_of_Birth  Driving_License  \\\n",
      "60349  347359018    Male  Saturday, January 9, 1965                1   \n",
      "86500  349931875  Female    Saturday, March 1, 1986                1   \n",
      "87013  760803848    Male    Monday, October 1, 1973                1   \n",
      "84774  576720094  Female  Monday, September 9, 1985                1   \n",
      "42123  530807088  Female  Tuesday, January 23, 1979                1   \n",
      "\n",
      "      Customer_Residence_Sub_County  Previously_Insured  \\\n",
      "60349                   NAROK SOUTH                   1   \n",
      "86500                      KASARANI                   0   \n",
      "87013                      KASARANI                   0   \n",
      "84774                        ISINYA                   0   \n",
      "42123                      KASARANI                   1   \n",
      "\n",
      "       Vehicle_Year_of_Manufacture Vehicle_Damage  Annual_Premium  \\\n",
      "60349                         2009             No           28265   \n",
      "86500                         2013            Yes           32271   \n",
      "87013                         2017            Yes            2630   \n",
      "84774                         2015            Yes            2630   \n",
      "42123                         2009             No            2630   \n",
      "\n",
      "             Agent_name       Life_policy_start_date  Response  \n",
      "60349  Achieng Kwamboka    Friday, November 10, 2023         0  \n",
      "86500  Akinyi Chepkorir  Tuesday, September 12, 2023         0  \n",
      "87013  Akinyi Chepkorir       Friday, August 4, 2023         0  \n",
      "84774  Akinyi Chepkorir    Thursday, August 24, 2023         0  \n",
      "42123  Akinyi Chepkorir      Saturday, April 8, 2023         0  \n"
     ]
    }
   ],
   "source": [
    "# Sort the DataFrame by the 'agent_name' column in alphabetical order\n",
    "df_sorted = df.sort_values(by='Agent_name', ascending=True)\n",
    "\n",
    "# Display the sorted DataFrame\n",
    "print(df_sorted.head())\n"
   ]
  },
  {
   "cell_type": "markdown",
   "metadata": {},
   "source": [
    "# Python Operators\n",
    "\n",
    "## 1. Arithmetic Operators\n",
    "Used for performing basic arithmetic operations.\n",
    "\n",
    "| Operator | Description              | Example  |\n",
    "|----------|--------------------------|----------|\n",
    "| `+`      | Addition                 | `a + b`  |\n",
    "| `-`      | Subtraction              | `a - b`  |\n",
    "| `*`      | Multiplication           | `a * b`  |\n",
    "| `/`      | Division (float result)  | `a / b`  |\n",
    "| `//`     | Floor Division           | `a // b` |\n",
    "| `%`      | Modulus (remainder)      | `a % b`  |\n",
    "| `**`     | Exponentiation           | `a ** b` |\n",
    "\n",
    "## 2. Comparison Operators\n",
    "Used to compare two values.\n",
    "\n",
    "| Operator | Description              | Example  |\n",
    "|----------|--------------------------|----------|\n",
    "| `==`     | Equal to                 | `a == b` |\n",
    "| `!=`     | Not equal to             | `a != b` |\n",
    "| `>`      | Greater than             | `a > b`  |\n",
    "| `<`      | Less than                | `a < b`  |\n",
    "| `>=`     | Greater than or equal to | `a >= b` |\n",
    "| `<=`     | Less than or equal to    | `a <= b` |\n",
    "\n",
    "## 3. Assignment Operators\n",
    "Used to assign values to variables.\n",
    "\n",
    "| Operator | Description              | Example       |\n",
    "|----------|--------------------------|---------------|\n",
    "| `=`      | Assigns value            | `a = 5`       |\n",
    "| `+=`     | Add and assign           | `a += 5`      |\n",
    "| `-=`     | Subtract and assign      | `a -= 5`      |\n",
    "| `*=`     | Multiply and assign      | `a *= 5`      |\n",
    "| `/=`     | Divide and assign        | `a /= 5`      |\n",
    "| `//=`    | Floor divide and assign  | `a //= 5`     |\n",
    "| `%=`     | Modulus and assign       | `a %= 5`      |\n",
    "| `**=`    | Exponentiate and assign  | `a **= 5`     |\n",
    "\n",
    "## 4. Logical Operators\n",
    "Used for logical operations (Boolean logic).\n",
    "\n",
    "| Operator | Description                | Example         |\n",
    "|----------|----------------------------|-----------------|\n",
    "| `and`    | Returns True if both are true | `a and b`       |\n",
    "| `or`     | Returns True if one is true  | `a or b`        |\n",
    "| `not`    | Returns True if False, False if True | `not a` |\n",
    "\n",
    "## 5. Identity Operators\n",
    "Used to compare objects' memory locations.\n",
    "\n",
    "| Operator | Description                | Example         |\n",
    "|----------|----------------------------|-----------------|\n",
    "| `is`     | Returns True if both are the same object | `a is b`       |\n",
    "| `is not` | Returns True if both are not the same object | `a is not b` |\n",
    "\n",
    "## 6. Membership Operators\n",
    "Used to test whether a value is a member of a sequence (list, string, etc.).\n",
    "\n",
    "| Operator | Description                | Example         |\n",
    "|----------|----------------------------|-----------------|\n",
    "| `in`     | Returns True if value is in sequence | `a in list`    |\n",
    "| `not in` | Returns True if value is not in sequence | `a not in list`|\n",
    "\n",
    "## 7. Bitwise Operators\n",
    "Used for bit-level operations on integers.\n",
    "\n",
    "| Operator | Description                | Example         |\n",
    "|----------|----------------------------|-----------------|\n",
    "| `&`      | Bitwise AND                | `a & b`         |\n",
    "| `|`      | Bitwise OR                 | `a | b`         |\n",
    "| `^`      | Bitwise XOR                | `a ^ b`         |\n",
    "| `~`      | Bitwise NOT                | `~a`            |\n",
    "| `<<`     | Bitwise left shift         | `a << 2`        |\n",
    "| `>>`     | Bitwise right shift        | `a >> 2`        |\n",
    "\n",
    "## 8. Ternary (Conditional) Operator\n",
    "A shortcut for `if-else` conditions.\n",
    "\n",
    "| Operator | Description                | Example             |\n",
    "|----------|----------------------------|---------------------|\n",
    "| `x if condition else y` | Returns `x` if the condition is True, otherwise returns `y` | `a if a > b else b` |\n",
    "\n",
    "## 9. Lambda Function (Anonymous Function)\n",
    "A shortcut for creating simple functions.\n",
    "\n",
    "| Operator | Description                | Example                        |\n",
    "|----------|----------------------------|--------------------------------|\n",
    "| `lambda` | Creates an anonymous function | `lambda x: x + 2`             |\n",
    "\n",
    "## 10. Parentheses\n",
    "Used to group expressions and control order of operations.\n",
    "\n",
    "| Operator | Description                | Example         |\n",
    "|----------|----------------------------|-----------------|\n",
    "| `()`     | Grouping and function call  | `(a + b) * c`   |\n",
    "\n",
    "## 11. Slice Operator\n",
    "Used to slice sequences (lists, strings, etc.).\n",
    "\n",
    "| Operator | Description                | Example         |\n",
    "|----------|----------------------------|-----------------|\n",
    "| `:`      | Slice operator              | `a[1:3]`        |\n",
    "\n",
    "## 12. Index Operator\n",
    "Used to access elements of a sequence.\n",
    "\n",
    "| Operator | Description                | Example         |\n",
    "|----------|----------------------------|-----------------|\n",
    "| `[]`     | Indexing operator           | `a[2]`          |\n",
    "\n",
    "## 13. `__getitem__` and `__setitem__`\n",
    "Used to access and assign values to objects like dictionaries or lists through indexing.\n",
    "\n",
    "| Operator          | Description               | Example       |\n",
    "|-------------------|---------------------------|---------------|\n",
    "| `obj[key]`        | Access element by index   | `my_dict[key]`|\n",
    "| `obj[key] = value`| Set element by index      | `my_dict[key] = value`|\n"
   ]
  },
  {
   "cell_type": "code",
   "execution_count": 3,
   "metadata": {},
   "outputs": [
    {
     "name": "stdout",
     "output_type": "stream",
     "text": [
      "         ÿid  Gender       Customer_Date_of_Birth  Driving_License  \\\n",
      "0  549771831    Male        Monday, March 7, 1977                1   \n",
      "1  373583351    Male    Sunday, December 29, 2002                1   \n",
      "2  933163655  Female     Tuesday, August 23, 1994                1   \n",
      "3  698942186  Female  Thursday, November 18, 1999                1   \n",
      "4  515109822    Male  Thursday, February 22, 2001                1   \n",
      "\n",
      "  Customer_Residence_Sub_County  Previously_Insured  \\\n",
      "0                      EMBAKASI                   0   \n",
      "1                     WESTLANDS                   1   \n",
      "2                     DAGORETTI                   1   \n",
      "3                          JUJA                   0   \n",
      "4                     WESTLANDS                   0   \n",
      "\n",
      "   Vehicle_Year_of_Manufacture Vehicle_Damage  Annual_Premium      Agent_name  \\\n",
      "0                         2020            Yes           38294   Jomo Kenyatta   \n",
      "1                         2020             No           28619  Obiero Ochieng   \n",
      "2                         2011             No           27496  Obiero Ochieng   \n",
      "3                         2020            Yes            2630  Gitonga Mwangi   \n",
      "4                         2015            Yes           23367  Obiero Ochieng   \n",
      "\n",
      "        Life_policy_start_date  Response  performance_score  \\\n",
      "0  Thursday, December 21, 2023         1         2284661069   \n",
      "1     Wednesday, June 28, 2023         0         3540111121   \n",
      "2   Saturday, December 9, 2023         0         3540111121   \n",
      "3       Tuesday, July 25, 2023         0          475238042   \n",
      "4       Saturday, May 13, 2023         0         3540111121   \n",
      "\n",
      "  performance_category  \n",
      "0               Medium  \n",
      "1                 High  \n",
      "2                 High  \n",
      "3                  Low  \n",
      "4                 High  \n"
     ]
    }
   ],
   "source": [
    "# Step 1: Calculate performance scores (Premium and agent name)\n",
    "performance_scores = df.groupby('Agent_name')['Annual_Premium'].sum().reset_index(name='performance_score')\n",
    "\n",
    "# Step 2: Merge the performance scores back into the original DataFrame\n",
    "df = df.merge(performance_scores, on='Agent_name')\n",
    "\n",
    "# Step 3: Define performance categories based on quartiles as an example\n",
    "performance_quartiles = df['performance_score'].quantile([0.25, 0.5, 0.75]).to_dict()\n",
    "\n",
    "# Step 4: Categorize performance based on quartiles\n",
    "def categorize_performance(score):\n",
    "    if score <= performance_quartiles[0.25]:\n",
    "        return 'Low'\n",
    "    elif score <= performance_quartiles[0.5]:\n",
    "        return 'Medium'\n",
    "    elif score <= performance_quartiles[0.75]:\n",
    "        return 'High'\n",
    "    else:\n",
    "        return 'Very High'\n",
    "\n",
    "# Apply the function to the 'performance_score' column and create a new column 'performance_category'\n",
    "df['performance_category'] = df['performance_score'].apply(categorize_performance)\n",
    "\n",
    "# Display the updated DataFrame\n",
    "print(df.head())\n"
   ]
  },
  {
   "cell_type": "code",
   "execution_count": 4,
   "metadata": {},
   "outputs": [
    {
     "name": "stdout",
     "output_type": "stream",
     "text": [
      "2021 Honda Civic\n",
      "2020 Toyota Camry\n"
     ]
    }
   ],
   "source": [
    "class Car:\n",
    "    def __init__(self, make, model, year):\n",
    "        # Initialize the attributes\n",
    "        self.make = make\n",
    "        self.model = model\n",
    "        self.year = year\n",
    "    \n",
    "    def describe(self):\n",
    "        # Method to describe the car\n",
    "        return f\"{self.year} {self.make} {self.model}\"\n",
    "\n",
    "# Creating instances of Car\n",
    "car1 = Car(\"Honda\", \"Civic\", 2021)\n",
    "car2 = Car(\"Toyota\", \"Camry\", 2020)\n",
    "\n",
    "# Calling the describe method\n",
    "print(car1.describe())  # Output: 2021 Honda Civic\n",
    "print(car2.describe())  # Output: 2020 Toyota Camry\n"
   ]
  },
  {
   "cell_type": "markdown",
   "metadata": {},
   "source": [
    "# Line of best fit\n",
    "The formula of the line of best fit is the equation of a straight line, typically written as:\n",
    "y=mx+b\n",
    "where:\n",
    "y is the dependent variable,\n",
    "x is the independent variable,\n",
    "m is the slope of the line (the rate of change of y with respect to x),\n",
    "b is the y-intercept (the value of y when x=0).\n",
    "The scientific name for the line of best fit is the least squares regression line. This method minimizes the sum of the squares of the residuals (the differences between observed and predicted values) to find the best fit for the data points."
   ]
  },
  {
   "cell_type": "markdown",
   "metadata": {},
   "source": [
    "# Median\n",
    "## 1. Median for Ungrouped Data\n",
    "- **For odd number of observations**:\n",
    "  $$\\text{Median} = \\left(\\frac{n + 1}{2}\\right)\\text{th observation}$$\n",
    "  where \\(n\\) is the number of observations.\n",
    "- **For even number of observations**:\n",
    "  $$\\text{Median} = \\frac{\\left(\\frac{n}{2}\\text{th observation} + \\left(\\frac{n}{2} + 1\\right)\\text{th observation}\\right)}{2}$$\n",
    "  where \\(n\\) is the number of observations.\n",
    "### 2. Median for Grouped Data\n",
    "For grouped data, the formula is:\n",
    "$$\\text{Median} = L + \\left(\\frac{\\frac{n}{2} - F}{f}\\right) \\times h$$\n",
    "where:\n",
    "- \\(L\\) is the lower boundary of the median class,\n",
    "- \\(n\\) is the total number of frequencies,\n",
    "- \\(F\\) is the cumulative frequency of the class preceding the median class,\n",
    "- \\(f\\) is the frequency of the median class,\n",
    "- \\(h\\) is the class width of the median class."
   ]
  },
  {
   "cell_type": "markdown",
   "metadata": {},
   "source": [
    "**Homoscedasticity** refers to a situation in which the variance of the errors (or residuals) in a regression model is constant across all levels of the independent variables.\n",
    "### Importance of Homoscedasticity in Analysis:\n",
    "1. **Validity of Statistical Inferences**: Homoscedasticity is a key assumption in linear regression and other parametric tests (such as ANOVA). If this assumption is violated (leading to heteroscedasticity, where residuals vary across values of the independent variable), the standard errors of the coefficient estimates become unreliable, which can affect hypothesis tests (like t-tests and F-tests). This could lead to incorrect conclusions about the relationships between variables.\n",
    "\n",
    "2. **Efficient Parameter Estimates**: When homoscedasticity holds, the ordinary least squares (OLS) estimators are the **best linear unbiased estimators (BLUE)**. This means they provide the most efficient (minimum variance) estimates of the regression coefficients. Heteroscedasticity, on the other hand, can lead to inefficient and biased estimates.\n",
    "\n",
    "3. **Accuracy of Confidence Intervals and Prediction**: When the assumption of homoscedasticity is met, confidence intervals and prediction intervals are more accurate. In the presence of heteroscedasticity, these intervals may either understate or overstate the precision of the estimates, making predictions less reliable.\n"
   ]
  },
  {
   "cell_type": "code",
   "execution_count": null,
   "metadata": {},
   "outputs": [
    {
     "data": {
      "image/png": "[encoded data removed]",
      "text/plain": [
       "<Figure size 1000x600 with 1 Axes>"
      ]
     },
     "metadata": {},
     "output_type": "display_data"
    }
   ],
   "source": [
    "# Histogram\n",
    "\n",
    "import pandas as pd\n",
    "import matplotlib.pyplot as plt\n",
    "from datetime import datetime\n",
    "\n",
    "# Step 1: Convert 'Customer_Date_of_Birth' to datetime\n",
    "df['Customer_Date_of_Birth'] = pd.to_datetime(df['Customer_Date_of_Birth'], errors='coerce')\n",
    "\n",
    "# Step 2: Calculate the age of the policyholders\n",
    "current_year = datetime.now().year\n",
    "df['Age'] = current_year - df['Customer_Date_of_Birth'].dt.year\n",
    "\n",
    "# Step 3: Drop any NaN values in the 'Age' column\n",
    "df = df.dropna(subset=['Age'])\n",
    "\n",
    "# Step 4: Plot the histogram of ages\n",
    "plt.figure(figsize=(10, 6))\n",
    "plt.hist(df['Age'], bins=20, edgecolor='black')\n",
    "plt.title('Distribution of Policyholders Ages')\n",
    "plt.xlabel('Age')\n",
    "plt.ylabel('Frequency')\n",
    "plt.grid(True)\n",
    "\n",
    "# Show the plot\n",
    "plt.show()\n"
   ]
  },
  {
   "cell_type": "markdown",
   "metadata": {},
   "source": [
    "# Difference between boxplot and countplot\n",
    "A boxplot provides a summary of a set of data values through their quartiles and outliers while a countplot is used to display the count of observations in each category of a categorical variable."
   ]
  },
  {
   "cell_type": "markdown",
   "metadata": {},
   "source": [
    "# Distribution that has same mean ,mode ,median\n",
    "In a symmetric distribution, the mean, median, and mode are all located at the same point, which lies at the center of the distribution. This central point divides the data into two equal halves, and the shape of the distribution is balanced around this center."
   ]
  },
  {
   "cell_type": "code",
   "execution_count": 7,
   "metadata": {},
   "outputs": [
    {
     "name": "stdout",
     "output_type": "stream",
     "text": [
      "The absolute deviation mean of the list is: 2.4\n"
     ]
    }
   ],
   "source": [
    "def calculate_absolute_deviation_mean(data_list):\n",
    "    # Step 1: Calculate the mean of the list\n",
    "    mean_value = sum(data_list) / len(data_list)\n",
    "\n",
    "    # Step 2: Calculate absolute deviations from the mean using a for loop\n",
    "    absolute_deviations = 0\n",
    "    for num in data_list:\n",
    "        absolute_deviations += abs(num - mean_value)\n",
    "\n",
    "    # Step 3: Return the absolute deviation mean (average of absolute deviations)\n",
    "    return absolute_deviations / len(data_list)\n",
    "\n",
    "# Creating the list\n",
    "data = [2, 4, 6, 8, 10]\n",
    "\n",
    "# Call the function to get the absolute deviation mean\n",
    "result = calculate_absolute_deviation_mean(data)\n",
    "\n",
    "# Print the result\n",
    "print(f\"The absolute deviation mean of the list is: {result}\")\n"
   ]
  },
  {
   "cell_type": "markdown",
   "metadata": {},
   "source": [
    "# Data Presentation\n",
    "\n",
    "Often, it's best to present the data in a logical flow, which could be from smallest to largest or vice versa, depending on how the data naturally presents itself."
   ]
  },
  {
   "cell_type": "code",
   "execution_count": 10,
   "metadata": {},
   "outputs": [
    {
     "name": "stdout",
     "output_type": "stream",
     "text": [
      "25th Percentile: 30.0\n",
      "50th Percentile (Median): 50\n",
      "75th Percentile: 89.0\n"
     ]
    }
   ],
   "source": [
    "#Manual calculation of percentile\n",
    "def calculate_percentile(data_list, percentile):\n",
    "    # Step 1: Sort the list in ascending order\n",
    "    sorted_list = sorted(data_list)\n",
    "    \n",
    "    # Step 2: Calculate the rank (position)\n",
    "    N = len(sorted_list)\n",
    "    rank = (percentile / 100) * (N + 1)\n",
    "    \n",
    "    # Step 3: Interpolation or direct position calculation\n",
    "    if rank.is_integer():\n",
    "        return sorted_list[int(rank) - 1]\n",
    "    else:\n",
    "        lower_rank = int(rank) - 1\n",
    "        upper_rank = lower_rank + 1\n",
    "        return sorted_list[lower_rank] + (rank - (lower_rank + 1)) * (sorted_list[upper_rank] - sorted_list[lower_rank])\n",
    "\n",
    "# Create a list of numbers\n",
    "my_list = [13, 20, 40, 40, 50, 60, 86, 92, 100]\n",
    "\n",
    "# Calculate percentiles\n",
    "percentile_25 = calculate_percentile(my_list, 25)  # 25th percentile\n",
    "percentile_50 = calculate_percentile(my_list, 50)  # 50th percentile (median)\n",
    "percentile_75 = calculate_percentile(my_list, 75)  # 75th percentile\n",
    "\n",
    "# Print the results\n",
    "print(f\"25th Percentile: {percentile_25}\")\n",
    "print(f\"50th Percentile (Median): {percentile_50}\")\n",
    "print(f\"75th Percentile: {percentile_75}\")\n"
   ]
  }
 ],
 "metadata": {
  "kernelspec": {
   "display_name": "base",
   "language": "python",
   "name": "python3"
  },
  "language_info": {
   "codemirror_mode": {
    "name": "ipython",
    "version": 3
   },
   "file_extension": ".py",
   "mimetype": "text/x-python",
   "name": "python",
   "nbconvert_exporter": "python",
   "pygments_lexer": "ipython3",
   "version": "3.12.7"
  }
 },
 "nbformat": 4,
 "nbformat_minor": 2
}
