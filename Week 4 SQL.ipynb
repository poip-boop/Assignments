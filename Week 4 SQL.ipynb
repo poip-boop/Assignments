{
 "cells": [
  {
   "cell_type": "markdown",
   "metadata": {},
   "source": [
    "Data is unprocessed and unorganized observations that are not useful.\n",
    "Information is organized and processed data tht is meaningful to users.\n",
    "Database  is an organized collection of data structured in a certain way.\n",
    "Types of databases:Relational,non relational\n",
    "Primary key is a unique identifier in a table.\n",
    "Foreign key is a primary key that is being referenced in another table from its main table.\n",
    "Relational databases use structured query language."
   ]
  },
  {
   "cell_type": "markdown",
   "metadata": {},
   "source": [
    "Database management system-postgreSQL.MYSQL,MSSQL SERVER, oracle\n",
    "DBMS-Database-Tables-Data"
   ]
  },
  {
   "cell_type": "markdown",
   "metadata": {},
   "source": [
    "Types of relationships\n",
    "1.One to one relationship\n",
    "2.One to many\n",
    "3.Many to many"
   ]
  },
  {
   "cell_type": "markdown",
   "metadata": {},
   "source": [
    "Datatypes in sql-variuos forms/nature that exist in a database.\n",
    "Examples:char,Varchar,interger,float,date:written in capital letters\n",
    "Strings are enlosed in single quotation  marks\n"
   ]
  },
  {
   "cell_type": "markdown",
   "metadata": {},
   "source": [
    "Common sql keywords\n",
    "!.SHOW\n",
    "2.USE\n",
    "3.SELECT COLUMNS OR MORE COLUMNS OR TABLES\n",
    "3.* MEANS EVERYTHING\n",
    "4.LIMIT -FOR SELECTING SPECIFIC NO OF ROWS \n",
    "5.AS\n",
    "6.WHERE\n",
    "7.ORDER BY-DESC AND ASC FOR ORDER\n",
    "8.GROUP BY\n",
    "9.INSERT INTO"
   ]
  },
  {
   "cell_type": "markdown",
   "metadata": {},
   "source": [
    "Aggregate functions - perform calculations on a multiple rows and return a single values.\n",
    "Examples:COUNT(),SUM(),AVG(),MAX(),"
   ]
  },
  {
   "cell_type": "markdown",
   "metadata": {},
   "source": [
    "Joins and types"
   ]
  },
  {
   "cell_type": "markdown",
   "metadata": {},
   "source": [
    "Operators in sql\n",
    "1.Arithmetic operators\n",
    "2.Comparison operators\n",
    "3.Logical operators\n",
    "4.\n",
    "5.\n",
    "= equals to  in sql\n",
    "\n"
   ]
  }
 ],
 "metadata": {
  "language_info": {
   "name": "python"
  }
 },
 "nbformat": 4,
 "nbformat_minor": 2
}
